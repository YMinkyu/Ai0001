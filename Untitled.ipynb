{
 "cells": [
  {
   "cell_type": "code",
   "execution_count": 3,
   "id": "92cef936",
   "metadata": {},
   "outputs": [
    {
     "name": "stderr",
     "output_type": "stream",
     "text": [
      "C:\\Users\\user\\AppData\\Local\\Temp/ipykernel_10308/3650786173.py:6: DeprecationWarning: executable_path has been deprecated, please pass in a Service object\n",
      "  driver = webdriver.Chrome('C:\\\\versionTest\\\\chromedriver.exe')  # 크롬드라이버 위치 (크롬버전확인)\n",
      "C:\\Users\\user\\AppData\\Local\\Temp/ipykernel_10308/3650786173.py:8: DeprecationWarning: find_element_by_name is deprecated. Please use find_element(by=By.NAME, value=name) instead\n",
      "  elem = driver.find_element_by_name(\"q\")\n",
      "C:\\Users\\user\\AppData\\Local\\Temp/ipykernel_10308/3650786173.py:26: DeprecationWarning: find_element_by_css_selector is deprecated. Please use find_element(by=By.CSS_SELECTOR, value=css_selector) instead\n",
      "  driver.find_element_by_css_selector(\".mye4qd\").click()\n",
      "C:\\Users\\user\\AppData\\Local\\Temp/ipykernel_10308/3650786173.py:31: DeprecationWarning: find_elements_by_css_selector is deprecated. Please use find_elements(by=By.CSS_SELECTOR, value=css_selector) instead\n",
      "  images = driver.find_elements_by_css_selector(\".rg_i.Q4LuWd\")\n",
      "C:\\Users\\user\\AppData\\Local\\Temp/ipykernel_10308/3650786173.py:37: DeprecationWarning: find_element_by_xpath is deprecated. Please use find_element(by=By.XPATH, value=xpath) instead\n",
      "  imgUrl = driver.find_element_by_xpath('/html/body/div[2]/c-wiz/div[3]/div[1]/div/div/div[2]/div[1]/div[1]/span/div[1]/div[1]/div[4]/a[1]/div[1]/img').get_attribute(\"src\")\n"
     ]
    }
   ],
   "source": [
    "from selenium import webdriver  # 웹수집 자동화를 위한 크롬 드라이버 호출\n",
    "from selenium.webdriver.common.keys import Keys\n",
    "import time, os\n",
    "import urllib.request\n",
    "\n",
    "driver = webdriver.Chrome('C:\\\\versionTest\\\\chromedriver.exe')  # 크롬드라이버 위치 (크롬버전확인)\n",
    "driver.get(\"https://www.google.co.kr/imghp?hl=ko&tab=wi&authuser=0&ogbl\")\n",
    "elem = driver.find_element_by_name(\"q\")\n",
    "elem.send_keys(\"노란 신발\")\n",
    "elem.send_keys(Keys.RETURN)\n",
    "\n",
    "os.makedirs('노란 신발', exist_ok=True)\n",
    "\n",
    "SCROLL_PAUSE_TIME = 5\n",
    "# Get scroll height\n",
    "last_height = driver.execute_script(\"return document.body.scrollHeight\")\n",
    "while True:\n",
    "    # Scroll down to bottom\n",
    "    driver.execute_script(\"window.scrollTo(0, document.body.scrollHeight);\")\n",
    "    # Wait to load page\n",
    "    time.sleep(SCROLL_PAUSE_TIME)\n",
    "    # Calculate new scroll height and compare with last scroll height\n",
    "    new_height = driver.execute_script(\"return document.body.scrollHeight\")\n",
    "    if new_height == last_height:\n",
    "        try:\n",
    "            driver.find_element_by_css_selector(\".mye4qd\").click()\n",
    "        except:\n",
    "            break\n",
    "    last_height = new_height\n",
    "\n",
    "images = driver.find_elements_by_css_selector(\".rg_i.Q4LuWd\")\n",
    "count = 1\n",
    "for image in images:\n",
    "    try:\n",
    "        image.click()\n",
    "        time.sleep(2)\n",
    "        imgUrl = driver.find_element_by_xpath('/html/body/div[2]/c-wiz/div[3]/div[1]/div/div/div[2]/div[1]/div[1]/span/div[1]/div[1]/div[4]/a[1]/div[1]/img').get_attribute(\"src\")\n",
    "        opener=urllib.request.build_opener()\n",
    "        opener.addheaders=[('User-Agent','Mozilla/5.0 (Windows NT 6.1; WOW64) AppleWebKit/537.36 (KHTML, like Gecko) Chrome/36.0.1941.0 Safari/537.36')]\n",
    "        urllib.request.install_opener(opener)\n",
    "        urllib.request.urlretrieve(imgUrl, '노란 신발/'+ str(count) + \".jpg\")\n",
    "        count = count + 1\n",
    "    except:\n",
    "        pass\n",
    "\n",
    "driver.close()"
   ]
  }
 ],
 "metadata": {
  "kernelspec": {
   "display_name": "Python 3 (ipykernel)",
   "language": "python",
   "name": "python3"
  },
  "language_info": {
   "codemirror_mode": {
    "name": "ipython",
    "version": 3
   },
   "file_extension": ".py",
   "mimetype": "text/x-python",
   "name": "python",
   "nbconvert_exporter": "python",
   "pygments_lexer": "ipython3",
   "version": "3.9.7"
  }
 },
 "nbformat": 4,
 "nbformat_minor": 5
}
